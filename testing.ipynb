{
 "cells": [
  {
   "cell_type": "markdown",
   "source": [
    "Ok, so let's test out some stuff, and use this as a notebook for what works and what doesn't."
   ],
   "metadata": {
    "collapsed": false,
    "pycharm": {
     "name": "#%% md\n"
    }
   }
  },
  {
   "cell_type": "markdown",
   "source": [
    "### Idea 1: Momentum of Some Sort (MACD, RSI, etc.)"
   ],
   "metadata": {
    "collapsed": false,
    "pycharm": {
     "name": "#%% md\n"
    }
   }
  },
  {
   "cell_type": "markdown",
   "source": [
    "Don't have a lot of confidence in this tbh since crypto seems to be trading with more volatility. Let's test, though!"
   ],
   "metadata": {
    "collapsed": false,
    "pycharm": {
     "name": "#%% md\n"
    }
   }
  },
  {
   "cell_type": "markdown",
   "source": [
    "Let's first try a MACD-- comparing the (difference of long and short EMAs) and the EMA of this difference. We compare the difference with its own EMA because if not, there would be too many crossovers (> 0 vs < 0), and too many damn orders going through. Comparing against the EMA makes much fewer crossovers, but also means your signal is now acceleration instead of velocity [site intuition]\n",
    "\n",
    "We also note that if we only take the sign of the difference as our signal, we will be too late-- our signal will be incredibly lagged and we won't have the adequate time to capitalize on trends before they swing again. Comparing with the EMA of difference will make a huge difference. See below. Tho to note, the histogram is just the difference between the two...\n",
    "\n",
    "![Chart](MACDpicwiki.gif \"hi\")"
   ],
   "metadata": {
    "collapsed": false,
    "pycharm": {
     "name": "#%% md\n"
    }
   }
  },
  {
   "cell_type": "markdown",
   "source": [
    "Let's implement this, then, with long window = 13 and short window = 6, EMA of Diff = 6\n",
    "data in 15 min. increments\n",
    "\n",
    "We use $ \\alpha = \\frac{2}{N+1} $, and seek 99% accuracy\n",
    "\n",
    "the general idea is to long/short when diff of MACD and MACD Signal (the histogram) crosses 0, depending on the direction of course, and exit after histogram peaks. So, liquidate the 15 minute interval after histogram relative extrema. Repeat when histogram crosses 0 again.\n",
    "\n",
    "Furthermore, after reviewing the first batch of backtesting, I've noticed that this program often exits in the early stages of big swings, and so only captures a tiny fraction of the possible gain. I am working to make the strategy re-enter a position given a histogram swing in the top xth percentile.\n",
    "\n",
    "Inhomogeneous time series if we want to look at imperfect data (with holes and all), but we're not doing that\n",
    "\n",
    "Now, considering a much much more shorter window (5 min positions), and am adjusting the windows accordingly (3, 10, 3)\n",
    "I think we may have found our strategy..."
   ],
   "metadata": {
    "collapsed": false,
    "pycharm": {
     "name": "#%% md\n"
    }
   }
  },
  {
   "cell_type": "markdown",
   "source": [
    "Fuck it just do testing on main and descriptions here smh\n",
    "From 6/30/2021 - 6/30/2022 (accounting Kraken fees)\n",
    "[Excess Mean, Vol, Sharpe] = [1.005296,  1.363965,  0.73704]\n",
    "From 6/30/2020 - 6/30/2021\n",
    "[Excess Mean, Vol, Sharpe] = [-0.349, 0.251, -1.389]\n",
    "a tale of two returns...\n",
    "over past 8 years, avg. of -30%... uh\n",
    "^ Outdated Figures\n",
    "\n",
    "anyways, there are some bigggg problems with this strategy-- significantly, that it's on kraken and fees are eating my ass"
   ],
   "metadata": {
    "collapsed": false,
    "pycharm": {
     "name": "#%% md\n"
    }
   }
  },
  {
   "cell_type": "markdown",
   "source": [],
   "metadata": {
    "collapsed": false,
    "pycharm": {
     "name": "#%% md\n"
    }
   }
  },
  {
   "cell_type": "markdown",
   "source": [
    "# Idea 2: transfer to Binance.US lol #\n"
   ],
   "metadata": {
    "collapsed": false,
    "pycharm": {
     "name": "#%% md\n"
    }
   }
  }
 ],
 "metadata": {
  "kernelspec": {
   "display_name": "Python 3",
   "language": "python",
   "name": "python3"
  },
  "language_info": {
   "codemirror_mode": {
    "name": "ipython",
    "version": 2
   },
   "file_extension": ".py",
   "mimetype": "text/x-python",
   "name": "python",
   "nbconvert_exporter": "python",
   "pygments_lexer": "ipython2",
   "version": "2.7.6"
  }
 },
 "nbformat": 4,
 "nbformat_minor": 0
}