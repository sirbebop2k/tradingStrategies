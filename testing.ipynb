{
 "cells": [
  {
   "cell_type": "code",
   "execution_count": 1,
   "outputs": [],
   "source": [
    "# import statements + autoreload #\n",
    "\n",
    "%load_ext autoreload\n",
    "%autoreload 2\n",
    "\n",
    "import infrastructure as inf\n",
    "import stratMACD"
   ],
   "metadata": {
    "collapsed": false,
    "pycharm": {
     "name": "#%%\n"
    }
   }
  },
  {
   "cell_type": "markdown",
   "source": [
    "# MACD Backtest Data #\n",
    "tl;dr-- ETC found to have most robust returns over all tradeable coins, and Sharpe Ratios of different MACD strategies found comparable to buy-and-hold strategy, though with less volatility"
   ],
   "metadata": {
    "collapsed": false,
    "pycharm": {
     "name": "#%% md\n"
    }
   }
  },
  {
   "cell_type": "markdown",
   "source": [
    "### Ranked Coins (Over Past Year)\n",
    "##### note: will take a while to run"
   ],
   "metadata": {
    "collapsed": false,
    "pycharm": {
     "name": "#%% md\n"
    }
   }
  },
  {
   "cell_type": "code",
   "execution_count": 2,
   "outputs": [
    {
     "name": "stdout",
     "output_type": "stream",
     "text": [
      "               final\n",
      "SANDUSD   226.337396\n",
      "ETCUSD    200.236469\n",
      "KNCUSD    179.558238\n",
      "STORJUSD  130.316141\n",
      "OMGUSD    128.293082\n",
      "...              ...\n",
      "SUSHIUSD   31.451681\n",
      "MLNUSD     28.902395\n",
      "TBTCUSD    19.052756\n",
      "KARUSD     -0.034063\n",
      "DAIUSD     -0.085748\n",
      "\n",
      "[88 rows x 1 columns]\n"
     ]
    }
   ],
   "source": [
    "# (4, 18, 3) #\n",
    "print(stratMACD.rankCoins(1440, 4, 18, 3, index=365, trade_fee=.001))"
   ],
   "metadata": {
    "collapsed": false,
    "pycharm": {
     "name": "#%%\n"
    }
   }
  },
  {
   "cell_type": "code",
   "execution_count": 3,
   "outputs": [
    {
     "name": "stdout",
     "output_type": "stream",
     "text": [
      "                final\n",
      "ETCUSD     259.833269\n",
      "AXSUSD     238.838934\n",
      "CHZUSD     185.893557\n",
      "QTUMUSD    150.462829\n",
      "BADGERUSD  150.458679\n",
      "...               ...\n",
      "LSKUSD      -0.119366\n",
      "SCUSD       -0.119805\n",
      "ZRXUSD      -0.122197\n",
      "LRCUSD      -0.127497\n",
      "SHIBUSD     -0.144537\n",
      "\n",
      "[88 rows x 1 columns]\n"
     ]
    }
   ],
   "source": [
    "# (12, 26, 9) #\n",
    "print(stratMACD.rankCoins(1440, 12, 26, 9, index=365, trade_fee=.001))"
   ],
   "metadata": {
    "collapsed": false,
    "pycharm": {
     "name": "#%%\n"
    }
   }
  },
  {
   "cell_type": "markdown",
   "source": [
    "### Sharpe Ratios of MACD ETCUSD Strategies over past 670 Days\n",
    "##### (aggregated monthly, then annualized)"
   ],
   "metadata": {
    "collapsed": false,
    "pycharm": {
     "name": "#%% md\n"
    }
   }
  },
  {
   "cell_type": "code",
   "execution_count": 8,
   "outputs": [
    {
     "name": "stdout",
     "output_type": "stream",
     "text": [
      "           Mean       Vol   Sharpe\n",
      "Strat  1.399893  1.317819  1.06228\n"
     ]
    }
   ],
   "source": [
    "# (4, 18, 3) #\n",
    "data1 = stratMACD.getMACDData('ETCUSD', 1440, 4, 18, 3)\n",
    "results1 = stratMACD.backtestLongMACD(data1, trade_fee=.001)\n",
    "print(inf.getSharpe(results1, '1M'))\n",
    "\n",
    "# view monthly returns with code below\n",
    "# print((results1['% change']+1).resample('1M').prod()-1)"
   ],
   "metadata": {
    "collapsed": false,
    "pycharm": {
     "name": "#%%\n"
    }
   }
  },
  {
   "cell_type": "code",
   "execution_count": 9,
   "outputs": [
    {
     "name": "stdout",
     "output_type": "stream",
     "text": [
      "           Mean       Vol    Sharpe\n",
      "Strat  1.346046  1.312951  1.025206\n"
     ]
    }
   ],
   "source": [
    "# (12, 26, 9) #\n",
    "data2 = stratMACD.getMACDData('ETCUSD', 1440, 12, 26, 9)\n",
    "results2 = stratMACD.backtestLongMACD(data2, trade_fee=.001)\n",
    "print(inf.getSharpe(results2, '1M'))\n",
    "\n",
    "# view monthly returns with code below\n",
    "# print((results2['% change']+1).resample('1M').prod()-1)"
   ],
   "metadata": {
    "collapsed": false,
    "pycharm": {
     "name": "#%%\n"
    }
   }
  },
  {
   "cell_type": "code",
   "execution_count": 6,
   "outputs": [
    {
     "name": "stdout",
     "output_type": "stream",
     "text": [
      "          Mean       Vol    Sharpe\n",
      "Strat  1.99583  1.940282  1.028629\n"
     ]
    }
   ],
   "source": [
    "# control: buy and hold #\n",
    "\n",
    "control = inf.getHoldReturns('ETCUSD', 1440)\n",
    "print(inf.getSharpe(control, '1M'))\n",
    "\n",
    "# view monthly returns with code below\n",
    "# print((control['% change']+1).resample('1M').prod()-1)"
   ],
   "metadata": {
    "collapsed": false,
    "pycharm": {
     "name": "#%%\n"
    }
   }
  }
 ],
 "metadata": {
  "kernelspec": {
   "display_name": "Python 3",
   "language": "python",
   "name": "python3"
  },
  "language_info": {
   "codemirror_mode": {
    "name": "ipython",
    "version": 2
   },
   "file_extension": ".py",
   "mimetype": "text/x-python",
   "name": "python",
   "nbconvert_exporter": "python",
   "pygments_lexer": "ipython2",
   "version": "2.7.6"
  }
 },
 "nbformat": 4,
 "nbformat_minor": 0
}