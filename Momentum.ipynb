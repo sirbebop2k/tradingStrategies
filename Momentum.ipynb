{
 "cells": [
  {
   "cell_type": "markdown",
   "id": "04e70a1c",
   "metadata": {},
   "source": [
    "# Infrastructure"
   ]
  },
  {
   "cell_type": "code",
   "execution_count": 222,
   "id": "3a6bf5a2",
   "metadata": {},
   "outputs": [],
   "source": [
    "import numpy as np\n",
    "import pandas as pd\n",
    "import requests\n",
    "import time\n",
    "from datetime import datetime\n",
    "from collections import deque\n",
    "import matplotlib.pyplot as plt\n",
    "\n",
    "api_url = 'https://api.kraken.com'"
   ]
  },
  {
   "cell_type": "code",
   "execution_count": 106,
   "id": "1b65f8ee",
   "metadata": {},
   "outputs": [],
   "source": [
    "def getOHLC(pair, interval):\n",
    "    resp = requests.post('https://api.kraken.com/0/public/OHLC',\n",
    "                         {'pair': pair, 'interval': interval}).json()\n",
    "    \n",
    "    df = pd.DataFrame((resp['result'])[list(resp['result'])[0]],\n",
    "                      columns=['time', 'open', 'high', 'low',\n",
    "                               'close', 'vwap', 'volume', 'count'])\n",
    "    df['time'] = df['time'].apply(lambda x: datetime.fromtimestamp(x))\n",
    "    df.set_index('time', inplace=True)\n",
    "    df = df.astype('float')\n",
    "\n",
    "    return df\n",
    "\n",
    "def getOHLC_csv(file):\n",
    "    data = pd.read_csv(file, names = ['time', 'open', 'high', 'low',\n",
    "                               'close', 'vwap', 'volume', 'count'])\n",
    "    data['time'] = data['time'].apply(lambda x: datetime.fromtimestamp(x))\n",
    "    data.set_index('time', inplace=True)\n",
    "    data = data.astype('float')\n",
    "    \n",
    "    return data\n",
    "\n",
    "def getClose(pair, interval):\n",
    "    df = getOHLC(pair, interval)\n",
    "    return df['close']\n"
   ]
  },
  {
   "cell_type": "code",
   "execution_count": 107,
   "id": "3e9fe9f3",
   "metadata": {},
   "outputs": [],
   "source": [
    "def getEMA(data, window):\n",
    "    calcs = data.ewm(span=window).mean()\n",
    "    ema = calcs.iloc[-1, 0]\n",
    "\n",
    "    return ema\n",
    "\n",
    "\n",
    "def getListEMA(data, window):\n",
    "    calcs = data.ewm(span=window).mean()\n",
    "\n",
    "    return calcs\n",
    "\n",
    "\n",
    "def getListSMA(data, window):\n",
    "    calcs = data.rolling(window=window).mean()\n",
    "\n",
    "    return calcs"
   ]
  },
  {
   "cell_type": "code",
   "execution_count": 210,
   "id": "5a9f68f7",
   "metadata": {},
   "outputs": [],
   "source": [
    "# LOL apparently BIT isn't even bitcoin it's some other thing \n",
    "# these mfers didnt even have bitcoin in their historical data\n",
    "# but yeah these are the most liquid (in terms of trade count)\n",
    "#    non-stablecoin tokens on Kraken\n",
    "top_liquid_coins = ['XBT', 'ETH', 'XRP', 'SOL', 'MATIC', 'AVAX', 'XMR',\n",
    "                    'XDG', 'BCH', 'LTC', 'CHZ', 'TRX', 'LINK', 'ADA',\n",
    "                    'ETC', 'UNI', 'SHIB', 'APT', 'DOT', 'FIL', 'ATOM']\n",
    "# removed bnc\n",
    "\n",
    "# to obtain from Kraken API\n",
    "# histogram means difference between signal line (which is fast EMA - slow EMA) and the EMA of this signal line\n",
    "def getMACDData(pair, interval, fast, slow, third):\n",
    "\n",
    "    close = getClose(pair, interval=interval)\n",
    "\n",
    "    diff_list = (getListEMA(close, window=fast) - getListEMA(close, window=slow))\n",
    "    diff_ema = getListEMA(diff_list, window=third)\n",
    "\n",
    "    df = pd.DataFrame(index=close.index)\n",
    "    df['histogram'] = diff_list - diff_ema\n",
    "    df['close'] = close\n",
    "    df = df.astype('float')\n",
    "\n",
    "    return df\n",
    "\n",
    "\n",
    "# to obtain from csv files\n",
    "def getMACDData_manual(data, fast, slow, third):\n",
    "\n",
    "    close = pd.DataFrame(data['close'])\n",
    "\n",
    "    diff_list = (getListEMA(close, window=fast) - getListEMA(close, window=slow))\n",
    "    diff_ema = getListEMA(diff_list, window=third)\n",
    "\n",
    "    df = pd.DataFrame(index=close.index)\n",
    "    df['histogram'] = diff_list - diff_ema\n",
    "    df['close'] = close\n",
    "    df = df.astype('float')\n",
    "\n",
    "    return df\n",
    "\n",
    "# data: should come from getMACDData or getMACDData_manual, has to be specific format\n",
    "# starting: starting cash, can rly be anything\n",
    "# frac_traded: fraction of current cash to invest after each signal. Should NOT be 1 cause of fees\n",
    "# trade_fee: the percentage of position size Kraken takes with every order (buy/sell) we make\n",
    "# margin_fee: when shorting, the percentage of position size Kraken takes per every 4 hour \n",
    "def backtestMACD(data, starting=100, frac_traded=.99,\n",
    "                 trade_fee=.0012, margin_fee=.0002):\n",
    "    frac = frac_traded\n",
    "    cash = starting\n",
    "    holding_num = 0\n",
    "    short_day = False\n",
    "    indicator = 0\n",
    "    num_trades = 0\n",
    "    df = pd.DataFrame(index=data.index)\n",
    "    df['num trades'] = num_trades\n",
    "    df['holdings'] = 0\n",
    "    df['cash'] = cash\n",
    "    df['total'] = 0\n",
    "\n",
    "    for i in range(1, len(data.index)):\n",
    "        close = data.iloc[i, 1]\n",
    "        this = data.iloc[i, 0]\n",
    "        last = data.iloc[i - 1, 0]\n",
    "\n",
    "        if indicator == -1:\n",
    "            short_day = True\n",
    "        elif indicator != -1:\n",
    "            short_day = False\n",
    "\n",
    "        # if in a short position, deduct margin fee\n",
    "        if short_day:\n",
    "            cash -= holding_num * close * (- margin_fee * 6)\n",
    "\n",
    "        # hist rises above 0, enter long #\n",
    "        if (this > 0) and (last < 0) and (indicator == 0):\n",
    "            num_trades += 1\n",
    "            indicator = 1\n",
    "            holding_num += cash * frac / close\n",
    "            cash -= holding_num * close * (1 + trade_fee)\n",
    "\n",
    "        # exit long #\n",
    "        elif (this < last) and (indicator == 1):\n",
    "            num_trades += 1\n",
    "            indicator = 0\n",
    "            cash += holding_num * close * (1 - trade_fee)\n",
    "            holding_num = 0\n",
    "\n",
    "        # hist dips below 0, enter short #\n",
    "        elif (this < 0) and (last > 0) and (indicator == 0):\n",
    "            num_trades += 1\n",
    "            indicator = -1\n",
    "            holding_num -= cash * frac / close\n",
    "            cash -= holding_num * close * (1 - trade_fee - margin_fee)\n",
    "\n",
    "        # exit short #\n",
    "        elif (this > last) and (indicator == -1):\n",
    "            num_trades += 1\n",
    "            indicator = 0\n",
    "            cash += holding_num * close * (1 + trade_fee)\n",
    "            holding_num = 0\n",
    "\n",
    "        # corner cases where the peak only lasts one period #\n",
    "        elif (this > 0) and (indicator == -1):\n",
    "            num_trades += 1\n",
    "            indicator = 1\n",
    "            holding_num += 2 * cash * frac / close\n",
    "            cash -= holding_num * close * (1 + trade_fee)\n",
    "\n",
    "        elif (this < 0) and (indicator == 1):\n",
    "            num_trades += 1\n",
    "            indicator = -1\n",
    "            holding_num -= 2 * cash * frac / close\n",
    "            cash -= holding_num * close * (1 - trade_fee - margin_fee)\n",
    "\n",
    "        # send info into df\n",
    "        df.iloc[i, 0] = num_trades\n",
    "        df.iloc[i, 1] = holding_num * close\n",
    "        df.iloc[i, 2] = cash\n",
    "        df['total'] = df['cash'] + df['holdings']\n",
    "    df['% change'] = df['total'].pct_change()\n",
    "\n",
    "    return df"
   ]
  },
  {
   "cell_type": "code",
   "execution_count": 109,
   "id": "82e74604",
   "metadata": {},
   "outputs": [],
   "source": [
    "# may have to update risk free rate lol\n",
    "def getSharpe(returns, periods, rfr=.02989):\n",
    "    result = returns['% change'].iloc[2:] + 1\n",
    "    result = result.resample(periods).prod() - 1\n",
    "\n",
    "    if periods == '1D':\n",
    "        mean_excess = result.mean() * 365 - rfr\n",
    "        vol = result.std() * (365 ** 0.5)\n",
    "\n",
    "    elif periods == '1M':\n",
    "        mean_excess = result.mean() * 12 - rfr\n",
    "        vol = result.std() * (12 ** 0.5)\n",
    "\n",
    "    sharpe = mean_excess / vol\n",
    "\n",
    "    df = pd.DataFrame(columns=['Mean', 'Vol', 'Sharpe'], index=['Strat'])\n",
    "    df['Mean'] = mean_excess\n",
    "    df['Vol'] = vol\n",
    "    df['Sharpe'] = sharpe\n",
    "\n",
    "    return df"
   ]
  },
  {
   "cell_type": "code",
   "execution_count": 158,
   "id": "6a9c634a",
   "metadata": {},
   "outputs": [],
   "source": [
    "# returns df of sharpe ratios over the given time period (index), given the parameters\n",
    "# index indicates how many intervals in analysis (e.g. past 100 days)\n",
    "# from: \n",
    "def rankCoins(fast, slow, third, trade_fee=0, margin_fee=0):\n",
    "    \n",
    "    start_date = '2020-02-01 18:00:00'\n",
    "    end_date = '2022-02-01 18:00:00'\n",
    "    dct = dict()\n",
    "\n",
    "    for coin_name in good_top_liquid_coins:\n",
    "        #print(f'now on: {coin_name}')\n",
    "        filename = coin_name + 'USD_1440.csv'\n",
    "        ohlc = getOHLC_csv(filename)\n",
    "        \n",
    "        start_loc = ohlc.index.get_loc(start_date)\n",
    "        end_loc = ohlc.index.get_loc(end_date)\n",
    "\n",
    "        data = getMACDData_manual(ohlc, fast=fast, slow=slow, third=third).iloc[start_loc:end_loc]\n",
    "\n",
    "        returns = backtestMACD(data, starting=100,\n",
    "                                   trade_fee=trade_fee, margin_fee=0, frac_traded=.99)\n",
    "    \n",
    "        sharpe = getSharpe(returns, '1M')['Sharpe'].values[0]\n",
    "        dct[coin_name] = sharpe\n",
    "        title = ''\n",
    "\n",
    "    df = pd.DataFrame.from_dict(dct, orient='index', columns=['sharpes'])\n",
    "    df.sort_values(by=['sharpes'], ascending=False, inplace=True)\n",
    "    return df"
   ]
  },
  {
   "cell_type": "code",
   "execution_count": 259,
   "id": "4acec921",
   "metadata": {},
   "outputs": [],
   "source": [
    "# comparing against basket of coins\n",
    "def getHoldReturns(pair, interval):\n",
    "    data = getClose(pair, interval)\n",
    "    df = pd.DataFrame()\n",
    "    df['close'] = data\n",
    "    df['% change'] = df['close'].pct_change()\n",
    "\n",
    "    return df"
   ]
  },
  {
   "cell_type": "code",
   "execution_count": 294,
   "id": "cabae3c4",
   "metadata": {},
   "outputs": [],
   "source": [
    "def plotMACD(data):\n",
    "\n",
    "    x = data.index\n",
    "    y1 = data['histogram']\n",
    "    y2 = data['close']\n",
    "    fig, (ax1, ax2) = plt.subplots(2, 1)\n",
    "    ax1.plot(x, y2, label='close')\n",
    "    ax2.plot(x, y1, label='histogram')\n",
    "    ax1.xaxis.set_minor_locator(AutoMinorLocator(4))\n",
    "    ax2.xaxis.set_minor_locator(AutoMinorLocator(4))\n",
    "    ax1.grid(which='major')\n",
    "    ax1.grid(which='minor')\n",
    "    ax2.grid(which='major')\n",
    "    ax2.grid(which='minor')\n",
    "    fig.autofmt_xdate(rotation=45)\n",
    "    fig.show()"
   ]
  },
  {
   "cell_type": "markdown",
   "id": "5c49422f",
   "metadata": {},
   "source": [
    "# Strategy"
   ]
  },
  {
   "cell_type": "markdown",
   "id": "59c0321a",
   "metadata": {},
   "source": [
    "data downloaded directly from Kraken, no need for API\n",
    "Using Kraken + Crypto because it is easy to implement IRL with limited funds. Exists API with extensive documentation, and transparant trading fees. Additionally, it may be a less efficient asset class, with many many retail investors (though this may not be the case anymore)\n",
    "\n",
    "MACD since it's simple yet effective capture of momentum, plus backtests better than bollinger bands\n",
    "\n",
    "We seek to build a strategy ***which we may implement right now***, with limited capital requirements\n",
    "\n",
    "### Thesis:\n",
    "\n",
    "crypto markets aren't quite efficient, and due to perhaps high number of retail investors, may have high 'price inertia'"
   ]
  },
  {
   "cell_type": "markdown",
   "id": "692888bc",
   "metadata": {},
   "source": [
    "### Challenges:\n",
    "\n",
    "- frequently occuring 'black swan' events: this is actually what we seek to capture!\n",
    "\n",
    "- optimization: ~4 parameters, and over-optimizing may lead to bad overfitting, which is a possibility considering number of parameters and coins we use.\n",
    "- - we may just eyeball it\n",
    "\n",
    "- relative lack of data in crypto: only up to ~4 yearsish of reliable data\n",
    "\n",
    "\n",
    "### Risk Areas:\n",
    "\n",
    "- obviously don't know if past data/trends still hold for crypto, since big fundamental shifts in industry: see FTX collapse, increasing regulation, etc\n",
    "\n",
    "- counterparty risk: again, see FTX collapse and regulations. What if kraken goes heads up sometime?\n",
    "\n",
    "- directional bets: perhaps high payoff, but can easily blow up on us\n",
    "\n",
    "- don't understand fundamental pricing tbh -- no 'theoretical' background for why ideas work \n",
    "\n",
    "### Areas of Improvement:\n",
    "\n",
    "- bet sizing: size positions by MACD signal strength perhaps?\n",
    "- optimization: we could use ML but would take shit ton of computing time/power, especially across 3 (possibly 4) parameters and 20 coins\n"
   ]
  },
  {
   "cell_type": "markdown",
   "id": "ca05fa16",
   "metadata": {},
   "source": [
    "# Getting Coins with Enough Data\n",
    "Lots of coins simply do not have enough data to gain meaningful results from. We want to train on a two-year period from 2-01-2020 to 2-01-2022. We generate a list of such coins with data from this time period."
   ]
  },
  {
   "cell_type": "code",
   "execution_count": 159,
   "id": "b2f4a1e7",
   "metadata": {
    "scrolled": true
   },
   "outputs": [
    {
     "name": "stdout",
     "output_type": "stream",
     "text": [
      "['XBT', 'ETH', 'XRP', 'XMR', 'XDG', 'BCH', 'LTC', 'LINK', 'ADA', 'ETC', 'ATOM']\n"
     ]
    }
   ],
   "source": [
    "good_top_liquid_coins = []\n",
    "\n",
    "for coin in top_liquid_coins:\n",
    "    filename = coin + 'USD_1440.csv'\n",
    "    ohlc = getOHLC_csv(filename)\n",
    "    if len(ohlc.index) <= 730:\n",
    "        continue\n",
    "    position = ohlc.index.get_loc('2022-02-01 18:00:00')\n",
    "    if position > 730:\n",
    "        good_top_liquid_coins.append(coin)\n",
    "        \n",
    "print(good_top_liquid_coins)"
   ]
  },
  {
   "cell_type": "markdown",
   "id": "9882b259",
   "metadata": {},
   "source": [
    "# Coin / Parameter Optimization\n",
    "\n",
    "Should choose coins which display robust performance across variety of parameters"
   ]
  },
  {
   "cell_type": "code",
   "execution_count": 160,
   "id": "416c1eef",
   "metadata": {
    "scrolled": false
   },
   "outputs": [
    {
     "name": "stdout",
     "output_type": "stream",
     "text": [
      "       sharpes\n",
      "ETC   0.596751\n",
      "LTC   0.115396\n",
      "ATOM  0.016566\n",
      "ADA  -0.096497\n",
      "LINK -0.213627\n",
      "ETH  -0.450292\n",
      "XBT  -0.489857\n",
      "XDG  -0.647287\n",
      "BCH  -0.818097\n",
      "XMR  -0.933701\n",
      "XRP  -1.041207\n"
     ]
    }
   ],
   "source": [
    "# (4, 10, 4)\n",
    "\n",
    "print('4, 10, 4')\n",
    "print(rankCoins(4, 10, 4, trade_fee=.0012, margin_fee=.0002))"
   ]
  },
  {
   "cell_type": "code",
   "execution_count": 162,
   "id": "f15c9c8f",
   "metadata": {
    "scrolled": true
   },
   "outputs": [
    {
     "name": "stdout",
     "output_type": "stream",
     "text": [
      "       sharpes\n",
      "ETC   1.327145\n",
      "LTC   0.906932\n",
      "XDG   0.531772\n",
      "XRP   0.205291\n",
      "BCH   0.145719\n",
      "LINK -0.157560\n",
      "XBT  -0.236674\n",
      "ETH  -0.259505\n",
      "XMR  -0.567219\n",
      "ADA  -0.644181\n",
      "ATOM -0.778257\n"
     ]
    }
   ],
   "source": [
    "# (7, 15, 6)\n",
    "\n",
    "print(rankCoins(7, 15, 6, trade_fee=.0012, margin_fee=.0002))"
   ]
  },
  {
   "cell_type": "code",
   "execution_count": 163,
   "id": "3f52ec04",
   "metadata": {},
   "outputs": [
    {
     "name": "stdout",
     "output_type": "stream",
     "text": [
      "       sharpes\n",
      "ETC   0.967898\n",
      "XBT   0.119677\n",
      "XDG   0.072345\n",
      "LINK  0.054841\n",
      "BCH   0.047181\n",
      "ETH   0.019666\n",
      "XRP  -0.058102\n",
      "LTC  -0.156926\n",
      "XMR  -0.370757\n",
      "ADA  -0.586899\n",
      "ATOM -0.767906\n"
     ]
    }
   ],
   "source": [
    "# (10, 24, 6)\n",
    "\n",
    "print(rankCoins(10, 24, 6, trade_fee=.0012, margin_fee=.0002))"
   ]
  },
  {
   "cell_type": "code",
   "execution_count": 164,
   "id": "960e26d9",
   "metadata": {
    "scrolled": false
   },
   "outputs": [
    {
     "name": "stdout",
     "output_type": "stream",
     "text": [
      "       sharpes\n",
      "ATOM  0.751034\n",
      "LINK  0.726815\n",
      "ADA   0.726027\n",
      "BCH   0.544098\n",
      "ETC   0.499454\n",
      "ETH   0.482732\n",
      "XBT   0.166982\n",
      "LTC  -0.159794\n",
      "XRP  -1.085077\n",
      "XDG  -1.260387\n",
      "XMR  -1.495696\n"
     ]
    }
   ],
   "source": [
    "# (12, 30, 10)\n",
    "\n",
    "print(rankCoins(12, 30, 10, trade_fee=.0012, margin_fee=.0002))"
   ]
  },
  {
   "cell_type": "code",
   "execution_count": 165,
   "id": "ef6c6c6f",
   "metadata": {},
   "outputs": [
    {
     "name": "stdout",
     "output_type": "stream",
     "text": [
      "       sharpes\n",
      "ETH   0.724053\n",
      "ADA   0.403306\n",
      "LINK  0.284145\n",
      "XDG   0.182671\n",
      "BCH   0.182245\n",
      "XRP   0.165266\n",
      "ATOM -0.043151\n",
      "ETC  -0.069875\n",
      "LTC  -0.100828\n",
      "XBT  -0.197837\n",
      "XMR  -0.250007\n"
     ]
    }
   ],
   "source": [
    "# (18, 40, 16)\n",
    "\n",
    "print(rankCoins(18, 40, 16, trade_fee=.0012, margin_fee=.0002))"
   ]
  },
  {
   "cell_type": "markdown",
   "id": "d5b1b731",
   "metadata": {},
   "source": [
    "Note how **ETC** does incredibly well across wide span of parameters. **ADA** and **LINK** are quite good over long windows. Everything else seems due to noise.\n",
    "Picking coins with robust performances also ***reduces risk of overfitting***"
   ]
  },
  {
   "cell_type": "markdown",
   "id": "06f7ae45",
   "metadata": {},
   "source": [
    "### Optimizing on ETC, ADA, LINK"
   ]
  },
  {
   "cell_type": "code",
   "execution_count": 166,
   "id": "e60a9b39",
   "metadata": {},
   "outputs": [],
   "source": [
    "start_date = '2020-02-01 18:00:00'\n",
    "end_date = '2022-02-01 18:00:00'"
   ]
  },
  {
   "cell_type": "markdown",
   "id": "cc0b00b4",
   "metadata": {},
   "source": [
    "#### ETC"
   ]
  },
  {
   "cell_type": "code",
   "execution_count": 167,
   "id": "b3e0991e",
   "metadata": {},
   "outputs": [
    {
     "name": "stdout",
     "output_type": "stream",
     "text": [
      "    fast  slow  third    sharpe\n",
      "20     7    14      7  1.982863\n",
      "25     7    15      7  1.966804\n",
      "29     7    16      7  1.945690\n",
      "45     7    19      7  1.916978\n",
      "50     7    20      7  1.841250\n",
      "..   ...   ...    ...       ...\n",
      "8      3    12      3 -0.017626\n",
      "1      3    10      3 -0.069968\n",
      "5      3    11      3 -0.229023\n",
      "4      2    11      2 -1.683236\n",
      "0      2    10      2 -1.708596\n",
      "\n",
      "[104 rows x 4 columns]\n"
     ]
    }
   ],
   "source": [
    "# Wide Optimization #\n",
    "slows = [i for i in range(10, 28)]\n",
    "\n",
    "train_sharpes = []\n",
    "ohlc = getOHLC_csv('ETCUSD_1440.csv')\n",
    "start_loc = ohlc.index.get_loc(start_date)\n",
    "end_loc = ohlc.index.get_loc(end_date)\n",
    "\n",
    "for slow in slows:\n",
    "    for fast in range(int(slow/4), int(slow/2)+1):\n",
    "        third = fast\n",
    "        \n",
    "        data = getMACDData_manual(ohlc, fast=fast, slow=slow, third=third).iloc[start_loc:end_loc]\n",
    "        returns = backtestMACD(data, starting=100,\n",
    "                                   trade_fee=.0012, margin_fee=.0002, frac_traded=.99)\n",
    "        sharpe = getSharpe(returns, '1M')['Sharpe'].values[0]\n",
    "        train_sharpes.append({'fast': fast, 'slow': slow, 'third': third, 'sharpe': sharpe})\n",
    "        \n",
    "etc_brute_force = pd.DataFrame.from_dict(train_sharpes)\n",
    "etc_brute_force.sort_values(by=['sharpe'], ascending=False, inplace=True)\n",
    "\n",
    "print(etc_brute_force)\n"
   ]
  },
  {
   "cell_type": "markdown",
   "id": "96e3cea6",
   "metadata": {},
   "source": [
    "We see above that fasts/thirds around 7 and slows around 14-20 are optimal, with most parameters having positive sharpe! To find the exact optimized parameters:"
   ]
  },
  {
   "cell_type": "code",
   "execution_count": 168,
   "id": "01301a74",
   "metadata": {},
   "outputs": [
    {
     "name": "stdout",
     "output_type": "stream",
     "text": [
      "     fast  slow  third    sharpe\n",
      "5       7    14      7  1.982863\n",
      "56      8    17      6  1.978257\n",
      "50      6    17      8  1.978257\n",
      "24      8    15      6  1.972606\n",
      "18      6    15      8  1.972606\n",
      "..    ...   ...    ...       ...\n",
      "79      9    18      9  1.029583\n",
      "63      9    17      9  1.021629\n",
      "107     8    20      9  0.987367\n",
      "110     9    20      8  0.987367\n",
      "111     9    20      9  0.964017\n",
      "\n",
      "[112 rows x 4 columns]\n"
     ]
    }
   ],
   "source": [
    "# Narrow Optimization\n",
    "slows = [i for i in range(14, 21)]\n",
    "\n",
    "train_sharpes = []\n",
    "ohlc = getOHLC_csv('ETCUSD_1440.csv')\n",
    "start_loc = ohlc.index.get_loc(start_date)\n",
    "end_loc = ohlc.index.get_loc(end_date)\n",
    "\n",
    "for slow in slows:\n",
    "    for fast in range(6, 10):\n",
    "        for third in range(6, 10):\n",
    "            data = getMACDData_manual(ohlc, fast=fast, slow=slow, third=third).iloc[start_loc:end_loc]\n",
    "            returns = backtestMACD(data, starting=100,\n",
    "                                   trade_fee=.0012, margin_fee=.0002, frac_traded=.99)\n",
    "            sharpe = getSharpe(returns, '1M')['Sharpe'].values[0]\n",
    "            train_sharpes.append({'fast': fast, 'slow': slow, 'third': third, 'sharpe': sharpe})\n",
    "        \n",
    "etc_specified = pd.DataFrame.from_dict(train_sharpes)\n",
    "etc_specified.sort_values(by=['sharpe'], ascending=False, inplace=True)\n",
    "\n",
    "print(etc_specified)"
   ]
  },
  {
   "cell_type": "markdown",
   "id": "8b24d4c9",
   "metadata": {},
   "source": [
    "It's good to see that all 112 combinations return a sharpe ~> 1. We choose **(8, 17, 6)** as the range of parameters around it performed the best.\n",
    "Use gradient descent for future"
   ]
  },
  {
   "cell_type": "markdown",
   "id": "5564ed40",
   "metadata": {},
   "source": [
    "#### ADA"
   ]
  },
  {
   "cell_type": "code",
   "execution_count": 169,
   "id": "566e3649",
   "metadata": {},
   "outputs": [
    {
     "name": "stdout",
     "output_type": "stream",
     "text": [
      "    fast  slow  third    sharpe\n",
      "11    11    30     11  0.685314\n",
      "19    11    32     11  0.631483\n",
      "5     12    28     12  0.620011\n",
      "4     11    28     11  0.586080\n",
      "35    10    36     10  0.573926\n",
      "..   ...   ...    ...       ...\n",
      "64    20    40     20 -0.478059\n",
      "8      8    30      8 -0.485496\n",
      "74    20    42     20 -0.539961\n",
      "0      7    28      7 -0.693851\n",
      "1      8    28      8 -0.749718\n",
      "\n",
      "[76 rows x 4 columns]\n"
     ]
    }
   ],
   "source": [
    "# Wide Optimization #\n",
    "slows = [i for i in range(28, 43, 2)]\n",
    "\n",
    "# third = fast\n",
    "train_sharpes = []\n",
    "ohlc = getOHLC_csv('ADAUSD_1440.csv')\n",
    "start_loc = ohlc.index.get_loc(start_date)\n",
    "end_loc = ohlc.index.get_loc(end_date)\n",
    "\n",
    "for slow in slows:\n",
    "    for fast in range(int(slow/4) + (slow % 4 > 0), int(slow/2)+1):\n",
    "        third = fast\n",
    "        #print(f'now on: {fast}, {slow}, {third}')\n",
    "        data = getMACDData_manual(ohlc, fast=fast, slow=slow, third=third).iloc[start_loc:end_loc]\n",
    "        returns = backtestMACD(data, starting=100,\n",
    "                                   trade_fee=.0012, margin_fee=.0002, frac_traded=.99)\n",
    "        sharpe = getSharpe(returns, '1M')['Sharpe'].values[0]\n",
    "        train_sharpes.append({'fast': fast, 'slow': slow, 'third': third, 'sharpe': sharpe})\n",
    "        \n",
    "ada_brute_force = pd.DataFrame.from_dict(train_sharpes)\n",
    "ada_brute_force.sort_values(by=['sharpe'], ascending=False, inplace=True)\n",
    "\n",
    "print(ada_brute_force)\n"
   ]
  },
  {
   "cell_type": "markdown",
   "id": "12530961",
   "metadata": {},
   "source": [
    "We see there is a local peaks: around ~(30, 11, 11). Optimizing:"
   ]
  },
  {
   "cell_type": "code",
   "execution_count": 171,
   "id": "fccc6d51",
   "metadata": {},
   "outputs": [
    {
     "name": "stdout",
     "output_type": "stream",
     "text": [
      "    fast  slow  third    sharpe\n",
      "61    12    31     10  0.740822\n",
      "55    10    31     12  0.740822\n",
      "58    11    31     11  0.727578\n",
      "30    12    29     11  0.695713\n",
      "27    11    29     12  0.695713\n",
      "..   ...   ...    ...       ...\n",
      "24    11    29      9  0.252177\n",
      "18     9    29     11  0.252177\n",
      "32     9    30      9  0.163868\n",
      "0      9    28      9  0.148745\n",
      "16     9    29      9  0.139801\n",
      "\n",
      "[80 rows x 4 columns]\n"
     ]
    }
   ],
   "source": [
    "# Narrow Optimization\n",
    "slows = [i for i in range(28, 33)]\n",
    "\n",
    "# third = fast\n",
    "train_sharpes = []\n",
    "ohlc = getOHLC_csv('ADAUSD_1440.csv')\n",
    "start_loc = ohlc.index.get_loc(start_date)\n",
    "end_loc = ohlc.index.get_loc(end_date)\n",
    "\n",
    "for slow in slows:\n",
    "    for fast in range(9, 13):\n",
    "        for third in range(9, 13):\n",
    "            #print(f'now on: {fast}, {slow}, {third}')\n",
    "            data = getMACDData_manual(ohlc, fast=fast, slow=slow, third=third).iloc[start_loc:end_loc]\n",
    "            returns = backtestMACD(data, starting=100,\n",
    "                                   trade_fee=.0012, margin_fee=.0002, frac_traded=.99)\n",
    "            sharpe = getSharpe(returns, '1M')['Sharpe'].values[0]\n",
    "            train_sharpes.append({'fast': fast, 'slow': slow, 'third': third, 'sharpe': sharpe})\n",
    "        \n",
    "ada_specified = pd.DataFrame.from_dict(train_sharpes)\n",
    "ada_specified.sort_values(by=['sharpe'], ascending=False, inplace=True)\n",
    "\n",
    "print(ada_specified)\n"
   ]
  },
  {
   "cell_type": "markdown",
   "id": "a05953da",
   "metadata": {},
   "source": [
    "Backtest results for the ~(12, 31, 10) range are excellent, with every single of the 80 combinations having a sharpe > 0. We thus use **(12, 31, 10)** as our parameters."
   ]
  },
  {
   "cell_type": "markdown",
   "id": "dbce392d",
   "metadata": {},
   "source": [
    "#### LINK"
   ]
  },
  {
   "cell_type": "code",
   "execution_count": 172,
   "id": "42e11c48",
   "metadata": {},
   "outputs": [
    {
     "name": "stdout",
     "output_type": "stream",
     "text": [
      "    fast  slow  third    sharpe\n",
      "56    12    40     12  1.456847\n",
      "46    12    38     12  1.300813\n",
      "66    12    42     12  1.211715\n",
      "37    12    36     12  1.008342\n",
      "5     12    28     12  0.990604\n",
      "..   ...   ...    ...       ...\n",
      "17     9    32      9  0.044919\n",
      "58    14    40     14  0.034788\n",
      "39    14    36     14 -0.080748\n",
      "48    14    38     14 -0.162496\n",
      "75    21    42     21 -0.581585\n",
      "\n",
      "[76 rows x 4 columns]\n"
     ]
    }
   ],
   "source": [
    "# Wide Optimization #\n",
    "slows = [i for i in range(28, 43, 2)]\n",
    "\n",
    "# third = fast\n",
    "train_sharpes = []\n",
    "ohlc = getOHLC_csv('LINKUSD_1440.csv')\n",
    "start_loc = ohlc.index.get_loc(start_date)\n",
    "end_loc = ohlc.index.get_loc(end_date)\n",
    "\n",
    "for slow in slows:\n",
    "    for fast in range(int(slow/4) + (slow % 4 > 0), int(slow/2)+1):\n",
    "        third = fast\n",
    "        #print(f'now on: {fast}, {slow}, {third}')\n",
    "        data = getMACDData_manual(ohlc, fast=fast, slow=slow, third=third).iloc[start_loc:end_loc]\n",
    "        returns = backtestMACD(data, starting=100,\n",
    "                                   trade_fee=.0012, margin_fee=.0002, frac_traded=.99)\n",
    "        sharpe = getSharpe(returns, '1M')['Sharpe'].values[0]\n",
    "        train_sharpes.append({'fast': fast, 'slow': slow, 'third': third, 'sharpe': sharpe})\n",
    "        \n",
    "link_brute_force = pd.DataFrame.from_dict(train_sharpes)\n",
    "link_brute_force.sort_values(by=['sharpe'], ascending=False, inplace=True)\n",
    "\n",
    "print(link_brute_force)\n"
   ]
  },
  {
   "cell_type": "markdown",
   "id": "5530a361",
   "metadata": {},
   "source": [
    "Optimize around (12, 40, 12)"
   ]
  },
  {
   "cell_type": "code",
   "execution_count": 174,
   "id": "553562a5",
   "metadata": {},
   "outputs": [
    {
     "name": "stdout",
     "output_type": "stream",
     "text": [
      "     fast  slow  third    sharpe\n",
      "74     12    40     12  1.456847\n",
      "93     13    41     11  1.412606\n",
      "87     11    41     13  1.412606\n",
      "77     13    40     11  1.349117\n",
      "71     11    40     13  1.349117\n",
      "..    ...   ...    ...       ...\n",
      "64     10    40     10  0.333984\n",
      "31     13    37     13  0.324474\n",
      "127    13    43     13  0.308816\n",
      "47     13    38     13  0.254727\n",
      "15     13    36     13  0.159487\n",
      "\n",
      "[128 rows x 4 columns]\n"
     ]
    }
   ],
   "source": [
    "# Narrow Optimization\n",
    "slows = [i for i in range(36, 44)]\n",
    "\n",
    "# third = fast\n",
    "train_sharpes = []\n",
    "ohlc = getOHLC_csv('LINKUSD_1440.csv')\n",
    "start_loc = ohlc.index.get_loc(start_date)\n",
    "end_loc = ohlc.index.get_loc(end_date)\n",
    "\n",
    "for slow in slows:\n",
    "    for fast in range(10, 14):\n",
    "        for third in range(10, 14):\n",
    "            #print(f'now on: {fast}, {slow}, {third}')\n",
    "            data = getMACDData_manual(ohlc, fast=fast, slow=slow, third=third).iloc[start_loc:end_loc]\n",
    "            returns = backtestMACD(data, starting=100,\n",
    "                                   trade_fee=.0012, margin_fee=.0002, frac_traded=.99)\n",
    "            sharpe = getSharpe(returns, '1M')['Sharpe'].values[0]\n",
    "            train_sharpes.append({'fast': fast, 'slow': slow, 'third': third, 'sharpe': sharpe})\n",
    "        \n",
    "link_specified = pd.DataFrame.from_dict(train_sharpes)\n",
    "link_specified.sort_values(by=['sharpe'], ascending=False, inplace=True)\n",
    "\n",
    "print(link_specified)\n"
   ]
  },
  {
   "cell_type": "markdown",
   "id": "8d9ea369",
   "metadata": {},
   "source": [
    "**(12, 40, 12)** it is"
   ]
  },
  {
   "cell_type": "markdown",
   "id": "3c4234b0",
   "metadata": {},
   "source": [
    "### Portfolio Weightings\n",
    "\n",
    "Let's arbitrarily call it at 50/25/25 ETC / SOL / FIL ?\n",
    "\n",
    "Ideally we'd run regressions to create some MV portfolio. Meh\n",
    "\n",
    "- 33.3%: ETCUSD (8, 17, 6)\n",
    "- 33.3% ADA (12, 31, 10)\n",
    "- 33.3% LINK (12, 40, 12)"
   ]
  },
  {
   "cell_type": "markdown",
   "id": "8ca282e6",
   "metadata": {},
   "source": [
    "# Backtesting \n",
    "\n",
    "Should include sharpe, max drawdown, winrate, and comparison to dummy portfolio of just the coins"
   ]
  },
  {
   "cell_type": "code",
   "execution_count": 188,
   "id": "d31b932c",
   "metadata": {},
   "outputs": [],
   "source": [
    "test_start_date = \"2022-02-01 18:00:00\"\n",
    "test_end_date = \"2023-02-01 18:00:00\""
   ]
  },
  {
   "cell_type": "code",
   "execution_count": 232,
   "id": "c6247a45",
   "metadata": {},
   "outputs": [
    {
     "data": {
      "text/html": [
       "<div>\n",
       "<style scoped>\n",
       "    .dataframe tbody tr th:only-of-type {\n",
       "        vertical-align: middle;\n",
       "    }\n",
       "\n",
       "    .dataframe tbody tr th {\n",
       "        vertical-align: top;\n",
       "    }\n",
       "\n",
       "    .dataframe thead th {\n",
       "        text-align: right;\n",
       "    }\n",
       "</style>\n",
       "<table border=\"1\" class=\"dataframe\">\n",
       "  <thead>\n",
       "    <tr style=\"text-align: right;\">\n",
       "      <th></th>\n",
       "      <th>num trades</th>\n",
       "      <th>holdings</th>\n",
       "      <th>cash</th>\n",
       "      <th>total</th>\n",
       "      <th>% change</th>\n",
       "    </tr>\n",
       "    <tr>\n",
       "      <th>time</th>\n",
       "      <th></th>\n",
       "      <th></th>\n",
       "      <th></th>\n",
       "      <th></th>\n",
       "      <th></th>\n",
       "    </tr>\n",
       "  </thead>\n",
       "  <tbody>\n",
       "    <tr>\n",
       "      <th>2022-02-01 18:00:00</th>\n",
       "      <td>0</td>\n",
       "      <td>0.0</td>\n",
       "      <td>33.330000</td>\n",
       "      <td>33.330000</td>\n",
       "      <td>NaN</td>\n",
       "    </tr>\n",
       "    <tr>\n",
       "      <th>2022-02-02 18:00:00</th>\n",
       "      <td>0</td>\n",
       "      <td>0.0</td>\n",
       "      <td>33.330000</td>\n",
       "      <td>33.330000</td>\n",
       "      <td>0.0</td>\n",
       "    </tr>\n",
       "    <tr>\n",
       "      <th>2022-02-03 18:00:00</th>\n",
       "      <td>0</td>\n",
       "      <td>0.0</td>\n",
       "      <td>33.330000</td>\n",
       "      <td>33.330000</td>\n",
       "      <td>0.0</td>\n",
       "    </tr>\n",
       "    <tr>\n",
       "      <th>2022-02-04 18:00:00</th>\n",
       "      <td>0</td>\n",
       "      <td>0.0</td>\n",
       "      <td>33.330000</td>\n",
       "      <td>33.330000</td>\n",
       "      <td>0.0</td>\n",
       "    </tr>\n",
       "    <tr>\n",
       "      <th>2022-02-05 18:00:00</th>\n",
       "      <td>0</td>\n",
       "      <td>0.0</td>\n",
       "      <td>33.330000</td>\n",
       "      <td>33.330000</td>\n",
       "      <td>0.0</td>\n",
       "    </tr>\n",
       "    <tr>\n",
       "      <th>...</th>\n",
       "      <td>...</td>\n",
       "      <td>...</td>\n",
       "      <td>...</td>\n",
       "      <td>...</td>\n",
       "      <td>...</td>\n",
       "    </tr>\n",
       "    <tr>\n",
       "      <th>2023-01-27 18:00:00</th>\n",
       "      <td>64</td>\n",
       "      <td>0.0</td>\n",
       "      <td>29.059775</td>\n",
       "      <td>29.059775</td>\n",
       "      <td>0.0</td>\n",
       "    </tr>\n",
       "    <tr>\n",
       "      <th>2023-01-28 18:00:00</th>\n",
       "      <td>64</td>\n",
       "      <td>0.0</td>\n",
       "      <td>29.059775</td>\n",
       "      <td>29.059775</td>\n",
       "      <td>0.0</td>\n",
       "    </tr>\n",
       "    <tr>\n",
       "      <th>2023-01-29 18:00:00</th>\n",
       "      <td>64</td>\n",
       "      <td>0.0</td>\n",
       "      <td>29.059775</td>\n",
       "      <td>29.059775</td>\n",
       "      <td>0.0</td>\n",
       "    </tr>\n",
       "    <tr>\n",
       "      <th>2023-01-30 18:00:00</th>\n",
       "      <td>64</td>\n",
       "      <td>0.0</td>\n",
       "      <td>29.059775</td>\n",
       "      <td>29.059775</td>\n",
       "      <td>0.0</td>\n",
       "    </tr>\n",
       "    <tr>\n",
       "      <th>2023-01-31 18:00:00</th>\n",
       "      <td>64</td>\n",
       "      <td>0.0</td>\n",
       "      <td>29.059775</td>\n",
       "      <td>29.059775</td>\n",
       "      <td>0.0</td>\n",
       "    </tr>\n",
       "  </tbody>\n",
       "</table>\n",
       "<p>365 rows × 5 columns</p>\n",
       "</div>"
      ],
      "text/plain": [
       "                     num trades  holdings       cash      total  % change\n",
       "time                                                                     \n",
       "2022-02-01 18:00:00           0       0.0  33.330000  33.330000       NaN\n",
       "2022-02-02 18:00:00           0       0.0  33.330000  33.330000       0.0\n",
       "2022-02-03 18:00:00           0       0.0  33.330000  33.330000       0.0\n",
       "2022-02-04 18:00:00           0       0.0  33.330000  33.330000       0.0\n",
       "2022-02-05 18:00:00           0       0.0  33.330000  33.330000       0.0\n",
       "...                         ...       ...        ...        ...       ...\n",
       "2023-01-27 18:00:00          64       0.0  29.059775  29.059775       0.0\n",
       "2023-01-28 18:00:00          64       0.0  29.059775  29.059775       0.0\n",
       "2023-01-29 18:00:00          64       0.0  29.059775  29.059775       0.0\n",
       "2023-01-30 18:00:00          64       0.0  29.059775  29.059775       0.0\n",
       "2023-01-31 18:00:00          64       0.0  29.059775  29.059775       0.0\n",
       "\n",
       "[365 rows x 5 columns]"
      ]
     },
     "metadata": {},
     "output_type": "display_data"
    }
   ],
   "source": [
    "etc_test_ohlc = getOHLC('ETCUSD', 1440)\n",
    "start_loc = etc_test_ohlc.index.get_loc(test_start_date)\n",
    "end_loc = etc_test_ohlc.index.get_loc(test_end_date)\n",
    "\n",
    "etc_test_macd = getMACDData_manual(etc_test_ohlc, fast=8, slow=17, third=6).iloc[start_loc:end_loc]\n",
    "\n",
    "etc_test_returns = backtestMACD(etc_test_macd, starting=33.33,\n",
    "                                   trade_fee=.0012, margin_fee=.0002, frac_traded=.99)\n",
    "\n",
    "display(etc_test_returns)"
   ]
  },
  {
   "cell_type": "code",
   "execution_count": 230,
   "id": "95ab2239",
   "metadata": {},
   "outputs": [
    {
     "data": {
      "text/html": [
       "<div>\n",
       "<style scoped>\n",
       "    .dataframe tbody tr th:only-of-type {\n",
       "        vertical-align: middle;\n",
       "    }\n",
       "\n",
       "    .dataframe tbody tr th {\n",
       "        vertical-align: top;\n",
       "    }\n",
       "\n",
       "    .dataframe thead th {\n",
       "        text-align: right;\n",
       "    }\n",
       "</style>\n",
       "<table border=\"1\" class=\"dataframe\">\n",
       "  <thead>\n",
       "    <tr style=\"text-align: right;\">\n",
       "      <th></th>\n",
       "      <th>num trades</th>\n",
       "      <th>holdings</th>\n",
       "      <th>cash</th>\n",
       "      <th>total</th>\n",
       "      <th>% change</th>\n",
       "    </tr>\n",
       "    <tr>\n",
       "      <th>time</th>\n",
       "      <th></th>\n",
       "      <th></th>\n",
       "      <th></th>\n",
       "      <th></th>\n",
       "      <th></th>\n",
       "    </tr>\n",
       "  </thead>\n",
       "  <tbody>\n",
       "    <tr>\n",
       "      <th>2022-02-01 18:00:00</th>\n",
       "      <td>0</td>\n",
       "      <td>0.000000</td>\n",
       "      <td>33.340000</td>\n",
       "      <td>33.340000</td>\n",
       "      <td>NaN</td>\n",
       "    </tr>\n",
       "    <tr>\n",
       "      <th>2022-02-02 18:00:00</th>\n",
       "      <td>0</td>\n",
       "      <td>0.000000</td>\n",
       "      <td>33.340000</td>\n",
       "      <td>33.340000</td>\n",
       "      <td>0.000000</td>\n",
       "    </tr>\n",
       "    <tr>\n",
       "      <th>2022-02-03 18:00:00</th>\n",
       "      <td>1</td>\n",
       "      <td>33.006600</td>\n",
       "      <td>0.293792</td>\n",
       "      <td>33.300392</td>\n",
       "      <td>-0.001188</td>\n",
       "    </tr>\n",
       "    <tr>\n",
       "      <th>2022-02-04 18:00:00</th>\n",
       "      <td>1</td>\n",
       "      <td>32.635055</td>\n",
       "      <td>0.293792</td>\n",
       "      <td>32.928848</td>\n",
       "      <td>-0.011157</td>\n",
       "    </tr>\n",
       "    <tr>\n",
       "      <th>2022-02-05 18:00:00</th>\n",
       "      <td>1</td>\n",
       "      <td>33.135278</td>\n",
       "      <td>0.293792</td>\n",
       "      <td>33.429071</td>\n",
       "      <td>0.015191</td>\n",
       "    </tr>\n",
       "    <tr>\n",
       "      <th>...</th>\n",
       "      <td>...</td>\n",
       "      <td>...</td>\n",
       "      <td>...</td>\n",
       "      <td>...</td>\n",
       "      <td>...</td>\n",
       "    </tr>\n",
       "    <tr>\n",
       "      <th>2023-01-27 18:00:00</th>\n",
       "      <td>36</td>\n",
       "      <td>0.000000</td>\n",
       "      <td>49.148707</td>\n",
       "      <td>49.148707</td>\n",
       "      <td>0.000000</td>\n",
       "    </tr>\n",
       "    <tr>\n",
       "      <th>2023-01-28 18:00:00</th>\n",
       "      <td>36</td>\n",
       "      <td>0.000000</td>\n",
       "      <td>49.148707</td>\n",
       "      <td>49.148707</td>\n",
       "      <td>0.000000</td>\n",
       "    </tr>\n",
       "    <tr>\n",
       "      <th>2023-01-29 18:00:00</th>\n",
       "      <td>36</td>\n",
       "      <td>0.000000</td>\n",
       "      <td>49.148707</td>\n",
       "      <td>49.148707</td>\n",
       "      <td>0.000000</td>\n",
       "    </tr>\n",
       "    <tr>\n",
       "      <th>2023-01-30 18:00:00</th>\n",
       "      <td>36</td>\n",
       "      <td>0.000000</td>\n",
       "      <td>49.148707</td>\n",
       "      <td>49.148707</td>\n",
       "      <td>0.000000</td>\n",
       "    </tr>\n",
       "    <tr>\n",
       "      <th>2023-01-31 18:00:00</th>\n",
       "      <td>36</td>\n",
       "      <td>0.000000</td>\n",
       "      <td>49.148707</td>\n",
       "      <td>49.148707</td>\n",
       "      <td>0.000000</td>\n",
       "    </tr>\n",
       "  </tbody>\n",
       "</table>\n",
       "<p>365 rows × 5 columns</p>\n",
       "</div>"
      ],
      "text/plain": [
       "                     num trades   holdings       cash      total  % change\n",
       "time                                                                      \n",
       "2022-02-01 18:00:00           0   0.000000  33.340000  33.340000       NaN\n",
       "2022-02-02 18:00:00           0   0.000000  33.340000  33.340000  0.000000\n",
       "2022-02-03 18:00:00           1  33.006600   0.293792  33.300392 -0.001188\n",
       "2022-02-04 18:00:00           1  32.635055   0.293792  32.928848 -0.011157\n",
       "2022-02-05 18:00:00           1  33.135278   0.293792  33.429071  0.015191\n",
       "...                         ...        ...        ...        ...       ...\n",
       "2023-01-27 18:00:00          36   0.000000  49.148707  49.148707  0.000000\n",
       "2023-01-28 18:00:00          36   0.000000  49.148707  49.148707  0.000000\n",
       "2023-01-29 18:00:00          36   0.000000  49.148707  49.148707  0.000000\n",
       "2023-01-30 18:00:00          36   0.000000  49.148707  49.148707  0.000000\n",
       "2023-01-31 18:00:00          36   0.000000  49.148707  49.148707  0.000000\n",
       "\n",
       "[365 rows x 5 columns]"
      ]
     },
     "metadata": {},
     "output_type": "display_data"
    }
   ],
   "source": [
    "ada_test_ohlc = getOHLC('ADAUSD', 1440)\n",
    "start_loc = ada_test_ohlc.index.get_loc(test_start_date)\n",
    "end_loc = ada_test_ohlc.index.get_loc(test_end_date)\n",
    "\n",
    "ada_test_macd = getMACDData_manual(ada_test_ohlc, fast=12, slow=31, third=10).iloc[start_loc:end_loc]\n",
    "\n",
    "ada_test_returns = backtestMACD(ada_test_macd, starting=33.34,\n",
    "                                   trade_fee=.0012, margin_fee=.0002, frac_traded=.99)\n",
    "\n",
    "display(ada_test_returns)"
   ]
  },
  {
   "cell_type": "code",
   "execution_count": 233,
   "id": "08133bac",
   "metadata": {},
   "outputs": [
    {
     "data": {
      "text/html": [
       "<div>\n",
       "<style scoped>\n",
       "    .dataframe tbody tr th:only-of-type {\n",
       "        vertical-align: middle;\n",
       "    }\n",
       "\n",
       "    .dataframe tbody tr th {\n",
       "        vertical-align: top;\n",
       "    }\n",
       "\n",
       "    .dataframe thead th {\n",
       "        text-align: right;\n",
       "    }\n",
       "</style>\n",
       "<table border=\"1\" class=\"dataframe\">\n",
       "  <thead>\n",
       "    <tr style=\"text-align: right;\">\n",
       "      <th></th>\n",
       "      <th>num trades</th>\n",
       "      <th>holdings</th>\n",
       "      <th>cash</th>\n",
       "      <th>total</th>\n",
       "      <th>% change</th>\n",
       "    </tr>\n",
       "    <tr>\n",
       "      <th>time</th>\n",
       "      <th></th>\n",
       "      <th></th>\n",
       "      <th></th>\n",
       "      <th></th>\n",
       "      <th></th>\n",
       "    </tr>\n",
       "  </thead>\n",
       "  <tbody>\n",
       "    <tr>\n",
       "      <th>2022-02-01 18:00:00</th>\n",
       "      <td>0</td>\n",
       "      <td>0.000000</td>\n",
       "      <td>33.330000</td>\n",
       "      <td>33.330000</td>\n",
       "      <td>NaN</td>\n",
       "    </tr>\n",
       "    <tr>\n",
       "      <th>2022-02-02 18:00:00</th>\n",
       "      <td>0</td>\n",
       "      <td>0.000000</td>\n",
       "      <td>33.330000</td>\n",
       "      <td>33.330000</td>\n",
       "      <td>0.000000</td>\n",
       "    </tr>\n",
       "    <tr>\n",
       "      <th>2022-02-03 18:00:00</th>\n",
       "      <td>0</td>\n",
       "      <td>0.000000</td>\n",
       "      <td>33.330000</td>\n",
       "      <td>33.330000</td>\n",
       "      <td>0.000000</td>\n",
       "    </tr>\n",
       "    <tr>\n",
       "      <th>2022-02-04 18:00:00</th>\n",
       "      <td>1</td>\n",
       "      <td>32.996700</td>\n",
       "      <td>0.293704</td>\n",
       "      <td>33.290404</td>\n",
       "      <td>-0.001188</td>\n",
       "    </tr>\n",
       "    <tr>\n",
       "      <th>2022-02-05 18:00:00</th>\n",
       "      <td>1</td>\n",
       "      <td>33.500709</td>\n",
       "      <td>0.293704</td>\n",
       "      <td>33.794413</td>\n",
       "      <td>0.015140</td>\n",
       "    </tr>\n",
       "    <tr>\n",
       "      <th>...</th>\n",
       "      <td>...</td>\n",
       "      <td>...</td>\n",
       "      <td>...</td>\n",
       "      <td>...</td>\n",
       "      <td>...</td>\n",
       "    </tr>\n",
       "    <tr>\n",
       "      <th>2023-01-27 18:00:00</th>\n",
       "      <td>36</td>\n",
       "      <td>0.000000</td>\n",
       "      <td>26.882499</td>\n",
       "      <td>26.882499</td>\n",
       "      <td>0.000000</td>\n",
       "    </tr>\n",
       "    <tr>\n",
       "      <th>2023-01-28 18:00:00</th>\n",
       "      <td>36</td>\n",
       "      <td>0.000000</td>\n",
       "      <td>26.882499</td>\n",
       "      <td>26.882499</td>\n",
       "      <td>0.000000</td>\n",
       "    </tr>\n",
       "    <tr>\n",
       "      <th>2023-01-29 18:00:00</th>\n",
       "      <td>36</td>\n",
       "      <td>0.000000</td>\n",
       "      <td>26.882499</td>\n",
       "      <td>26.882499</td>\n",
       "      <td>0.000000</td>\n",
       "    </tr>\n",
       "    <tr>\n",
       "      <th>2023-01-30 18:00:00</th>\n",
       "      <td>36</td>\n",
       "      <td>0.000000</td>\n",
       "      <td>26.882499</td>\n",
       "      <td>26.882499</td>\n",
       "      <td>0.000000</td>\n",
       "    </tr>\n",
       "    <tr>\n",
       "      <th>2023-01-31 18:00:00</th>\n",
       "      <td>36</td>\n",
       "      <td>0.000000</td>\n",
       "      <td>26.882499</td>\n",
       "      <td>26.882499</td>\n",
       "      <td>0.000000</td>\n",
       "    </tr>\n",
       "  </tbody>\n",
       "</table>\n",
       "<p>365 rows × 5 columns</p>\n",
       "</div>"
      ],
      "text/plain": [
       "                     num trades   holdings       cash      total  % change\n",
       "time                                                                      \n",
       "2022-02-01 18:00:00           0   0.000000  33.330000  33.330000       NaN\n",
       "2022-02-02 18:00:00           0   0.000000  33.330000  33.330000  0.000000\n",
       "2022-02-03 18:00:00           0   0.000000  33.330000  33.330000  0.000000\n",
       "2022-02-04 18:00:00           1  32.996700   0.293704  33.290404 -0.001188\n",
       "2022-02-05 18:00:00           1  33.500709   0.293704  33.794413  0.015140\n",
       "...                         ...        ...        ...        ...       ...\n",
       "2023-01-27 18:00:00          36   0.000000  26.882499  26.882499  0.000000\n",
       "2023-01-28 18:00:00          36   0.000000  26.882499  26.882499  0.000000\n",
       "2023-01-29 18:00:00          36   0.000000  26.882499  26.882499  0.000000\n",
       "2023-01-30 18:00:00          36   0.000000  26.882499  26.882499  0.000000\n",
       "2023-01-31 18:00:00          36   0.000000  26.882499  26.882499  0.000000\n",
       "\n",
       "[365 rows x 5 columns]"
      ]
     },
     "metadata": {},
     "output_type": "display_data"
    }
   ],
   "source": [
    "link_test_ohlc = getOHLC('LINKUSD', 1440)\n",
    "start_loc = link_test_ohlc.index.get_loc(test_start_date)\n",
    "end_loc = link_test_ohlc.index.get_loc(test_end_date)\n",
    "\n",
    "link_test_macd = getMACDData_manual(link_test_ohlc, fast=12, slow=40, third=12).iloc[start_loc:end_loc]\n",
    "\n",
    "link_test_returns = backtestMACD(link_test_macd, starting=33.33,\n",
    "                                   trade_fee=.0012, margin_fee=.0002, frac_traded=.99)\n",
    "\n",
    "display(link_test_returns)"
   ]
  },
  {
   "cell_type": "code",
   "execution_count": 234,
   "id": "d1baf140",
   "metadata": {},
   "outputs": [
    {
     "data": {
      "text/html": [
       "<div>\n",
       "<style scoped>\n",
       "    .dataframe tbody tr th:only-of-type {\n",
       "        vertical-align: middle;\n",
       "    }\n",
       "\n",
       "    .dataframe tbody tr th {\n",
       "        vertical-align: top;\n",
       "    }\n",
       "\n",
       "    .dataframe thead th {\n",
       "        text-align: right;\n",
       "    }\n",
       "</style>\n",
       "<table border=\"1\" class=\"dataframe\">\n",
       "  <thead>\n",
       "    <tr style=\"text-align: right;\">\n",
       "      <th></th>\n",
       "      <th>total</th>\n",
       "      <th>% change</th>\n",
       "    </tr>\n",
       "    <tr>\n",
       "      <th>time</th>\n",
       "      <th></th>\n",
       "      <th></th>\n",
       "    </tr>\n",
       "  </thead>\n",
       "  <tbody>\n",
       "    <tr>\n",
       "      <th>2022-02-01 18:00:00</th>\n",
       "      <td>100.000000</td>\n",
       "      <td>NaN</td>\n",
       "    </tr>\n",
       "    <tr>\n",
       "      <th>2022-02-02 18:00:00</th>\n",
       "      <td>100.000000</td>\n",
       "      <td>0.000000</td>\n",
       "    </tr>\n",
       "    <tr>\n",
       "      <th>2022-02-03 18:00:00</th>\n",
       "      <td>99.960392</td>\n",
       "      <td>-0.000396</td>\n",
       "    </tr>\n",
       "    <tr>\n",
       "      <th>2022-02-04 18:00:00</th>\n",
       "      <td>99.549252</td>\n",
       "      <td>-0.004113</td>\n",
       "    </tr>\n",
       "    <tr>\n",
       "      <th>2022-02-05 18:00:00</th>\n",
       "      <td>100.553484</td>\n",
       "      <td>0.010088</td>\n",
       "    </tr>\n",
       "    <tr>\n",
       "      <th>...</th>\n",
       "      <td>...</td>\n",
       "      <td>...</td>\n",
       "    </tr>\n",
       "    <tr>\n",
       "      <th>2023-01-27 18:00:00</th>\n",
       "      <td>105.090981</td>\n",
       "      <td>0.000000</td>\n",
       "    </tr>\n",
       "    <tr>\n",
       "      <th>2023-01-28 18:00:00</th>\n",
       "      <td>105.090981</td>\n",
       "      <td>0.000000</td>\n",
       "    </tr>\n",
       "    <tr>\n",
       "      <th>2023-01-29 18:00:00</th>\n",
       "      <td>105.090981</td>\n",
       "      <td>0.000000</td>\n",
       "    </tr>\n",
       "    <tr>\n",
       "      <th>2023-01-30 18:00:00</th>\n",
       "      <td>105.090981</td>\n",
       "      <td>0.000000</td>\n",
       "    </tr>\n",
       "    <tr>\n",
       "      <th>2023-01-31 18:00:00</th>\n",
       "      <td>105.090981</td>\n",
       "      <td>0.000000</td>\n",
       "    </tr>\n",
       "  </tbody>\n",
       "</table>\n",
       "<p>365 rows × 2 columns</p>\n",
       "</div>"
      ],
      "text/plain": [
       "                          total  % change\n",
       "time                                     \n",
       "2022-02-01 18:00:00  100.000000       NaN\n",
       "2022-02-02 18:00:00  100.000000  0.000000\n",
       "2022-02-03 18:00:00   99.960392 -0.000396\n",
       "2022-02-04 18:00:00   99.549252 -0.004113\n",
       "2022-02-05 18:00:00  100.553484  0.010088\n",
       "...                         ...       ...\n",
       "2023-01-27 18:00:00  105.090981  0.000000\n",
       "2023-01-28 18:00:00  105.090981  0.000000\n",
       "2023-01-29 18:00:00  105.090981  0.000000\n",
       "2023-01-30 18:00:00  105.090981  0.000000\n",
       "2023-01-31 18:00:00  105.090981  0.000000\n",
       "\n",
       "[365 rows x 2 columns]"
      ]
     },
     "metadata": {},
     "output_type": "display_data"
    },
    {
     "data": {
      "text/html": [
       "<div>\n",
       "<style scoped>\n",
       "    .dataframe tbody tr th:only-of-type {\n",
       "        vertical-align: middle;\n",
       "    }\n",
       "\n",
       "    .dataframe tbody tr th {\n",
       "        vertical-align: top;\n",
       "    }\n",
       "\n",
       "    .dataframe thead th {\n",
       "        text-align: right;\n",
       "    }\n",
       "</style>\n",
       "<table border=\"1\" class=\"dataframe\">\n",
       "  <thead>\n",
       "    <tr style=\"text-align: right;\">\n",
       "      <th></th>\n",
       "      <th>Mean</th>\n",
       "      <th>Vol</th>\n",
       "      <th>Sharpe</th>\n",
       "    </tr>\n",
       "  </thead>\n",
       "  <tbody>\n",
       "    <tr>\n",
       "      <th>Strat</th>\n",
       "      <td>0.087496</td>\n",
       "      <td>0.400441</td>\n",
       "      <td>0.218499</td>\n",
       "    </tr>\n",
       "  </tbody>\n",
       "</table>\n",
       "</div>"
      ],
      "text/plain": [
       "           Mean       Vol    Sharpe\n",
       "Strat  0.087496  0.400441  0.218499"
      ]
     },
     "metadata": {},
     "output_type": "display_data"
    }
   ],
   "source": [
    "total_returns = pd.DataFrame(link_test_returns['total'] + ada_test_returns['total'] + etc_test_returns['total'])\n",
    "total_returns['% change'] = total_returns['total'].pct_change()\n",
    "display(total_returns)\n",
    "display(getSharpe(total_returns, '1M'))"
   ]
  },
  {
   "cell_type": "markdown",
   "id": "4839595e",
   "metadata": {},
   "source": [
    "A poor showing, but not the worst in the world"
   ]
  },
  {
   "cell_type": "code",
   "execution_count": 247,
   "id": "797daf51",
   "metadata": {},
   "outputs": [
    {
     "data": {
      "text/plain": [
       "time\n",
       "2022-02-28    0.026866\n",
       "2022-03-31    0.286900\n",
       "2022-04-30    0.034752\n",
       "2022-05-31   -0.116172\n",
       "2022-06-30   -0.127760\n",
       "2022-07-31    0.017709\n",
       "2022-08-31    0.000461\n",
       "2022-09-30   -0.035266\n",
       "2022-10-31   -0.045632\n",
       "2022-11-30   -0.052648\n",
       "2022-12-31   -0.034533\n",
       "2023-01-31    0.162711\n",
       "Freq: M, Name: % change, dtype: float64"
      ]
     },
     "metadata": {},
     "output_type": "display_data"
    },
    {
     "name": "stdout",
     "output_type": "stream",
     "text": [
      "max drawdown: -0.128\n"
     ]
    }
   ],
   "source": [
    "monthly_test_results = total_returns['% change'].iloc[2:] + 1\n",
    "monthly_test_results = monthly_test_results.resample('1M').prod() - 1\n",
    "\n",
    "display(monthly_test_results)\n",
    "print(f'max drawdown: {round(monthly_test_results.min(),3)}')"
   ]
  },
  {
   "cell_type": "code",
   "execution_count": 289,
   "id": "a8c4d796",
   "metadata": {
    "scrolled": false
   },
   "outputs": [
    {
     "data": {
      "image/png": "[encoded data removed]",
      "text/plain": [
       "<Figure size 1000x500 with 1 Axes>"
      ]
     },
     "metadata": {},
     "output_type": "display_data"
    }
   ],
   "source": [
    "plt.figure(figsize=(10,5))\n",
    "plt.plot((total_returns['total']-100)/100)\n",
    "plt.title('PnL Graph: Total Portfolio')\n",
    "plt.xlabel('Time')\n",
    "plt.ylabel('PnL as % of starting')\n",
    "plt.show()"
   ]
  },
  {
   "cell_type": "markdown",
   "id": "a0356de6",
   "metadata": {},
   "source": [
    "### Compared against holding coins:"
   ]
  },
  {
   "cell_type": "code",
   "execution_count": 270,
   "id": "44a0659a",
   "metadata": {},
   "outputs": [
    {
     "name": "stdout",
     "output_type": "stream",
     "text": [
      "                      close  % change\n",
      "time                                 \n",
      "2022-02-01 18:00:00  26.313 -0.019525\n",
      "2022-02-02 18:00:00  27.871  0.059210\n",
      "2022-02-03 18:00:00  29.739  0.067023\n",
      "2022-02-04 18:00:00  29.445 -0.009886\n",
      "2022-02-05 18:00:00  29.871  0.014468\n",
      "...                     ...       ...\n",
      "2023-01-27 18:00:00  21.578 -0.018691\n",
      "2023-01-28 18:00:00  22.826  0.057837\n",
      "2023-01-29 18:00:00  21.323 -0.065846\n",
      "2023-01-30 18:00:00  21.692  0.017305\n",
      "2023-01-31 18:00:00  22.435  0.034252\n",
      "\n",
      "[365 rows x 2 columns]\n"
     ]
    }
   ],
   "source": [
    "etc_hold = getHoldReturns('ETCUSD', 1440)\n",
    "start_loc = etc_hold.index.get_loc(test_start_date)\n",
    "end_loc = etc_hold.index.get_loc(test_end_date)\n",
    "etc_hold = etc_hold.iloc[start_loc:end_loc]\n",
    "\n",
    "print(etc_hold)"
   ]
  },
  {
   "cell_type": "code",
   "execution_count": 268,
   "id": "425b734b",
   "metadata": {},
   "outputs": [
    {
     "name": "stdout",
     "output_type": "stream",
     "text": [
      "                        close  % change\n",
      "time                                   \n",
      "2022-02-01 18:00:00  1.027207 -0.062570\n",
      "2022-02-02 18:00:00  1.060188  0.032107\n",
      "2022-02-03 18:00:00  1.138880  0.074225\n",
      "2022-02-04 18:00:00  1.126060 -0.011257\n",
      "2022-02-05 18:00:00  1.143320  0.015328\n",
      "...                       ...       ...\n",
      "2023-01-27 18:00:00  0.382175 -0.019813\n",
      "2023-01-28 18:00:00  0.397813  0.040918\n",
      "2023-01-29 18:00:00  0.372584 -0.063419\n",
      "2023-01-30 18:00:00  0.390539  0.048190\n",
      "2023-01-31 18:00:00  0.396702  0.015781\n",
      "\n",
      "[365 rows x 2 columns]\n"
     ]
    }
   ],
   "source": [
    "ada_hold = getHoldReturns('ADAUSD', 1440)\n",
    "start_loc = ada_hold.index.get_loc(test_start_date)\n",
    "end_loc = ada_hold.index.get_loc(test_end_date)\n",
    "ada_hold = ada_hold.iloc[start_loc:end_loc]\n",
    "\n",
    "print(ada_hold)"
   ]
  },
  {
   "cell_type": "code",
   "execution_count": 271,
   "id": "139e598a",
   "metadata": {},
   "outputs": [
    {
     "name": "stdout",
     "output_type": "stream",
     "text": [
      "                        close  % change\n",
      "time                                   \n",
      "2022-02-01 18:00:00  15.85526 -0.066896\n",
      "2022-02-02 18:00:00  16.29993  0.028046\n",
      "2022-02-03 18:00:00  17.52511  0.075165\n",
      "2022-02-04 18:00:00  17.80873  0.016184\n",
      "2022-02-05 18:00:00  18.08075  0.015275\n",
      "...                       ...       ...\n",
      "2023-01-27 18:00:00   7.20891 -0.022786\n",
      "2023-01-28 18:00:00   7.38077  0.023840\n",
      "2023-01-29 18:00:00   6.91156 -0.063572\n",
      "2023-01-30 18:00:00   6.95098  0.005703\n",
      "2023-01-31 18:00:00   7.19920  0.035710\n",
      "\n",
      "[365 rows x 2 columns]\n"
     ]
    }
   ],
   "source": [
    "link_hold = getHoldReturns('linkUSD', 1440)\n",
    "start_loc = link_hold.index.get_loc(test_start_date)\n",
    "end_loc = link_hold.index.get_loc(test_end_date)\n",
    "link_hold = link_hold.iloc[start_loc:end_loc]\n",
    "\n",
    "print(link_hold)"
   ]
  },
  {
   "cell_type": "code",
   "execution_count": 287,
   "id": "0ddd4a60",
   "metadata": {},
   "outputs": [
    {
     "data": {
      "text/html": [
       "<div>\n",
       "<style scoped>\n",
       "    .dataframe tbody tr th:only-of-type {\n",
       "        vertical-align: middle;\n",
       "    }\n",
       "\n",
       "    .dataframe tbody tr th {\n",
       "        vertical-align: top;\n",
       "    }\n",
       "\n",
       "    .dataframe thead th {\n",
       "        text-align: right;\n",
       "    }\n",
       "</style>\n",
       "<table border=\"1\" class=\"dataframe\">\n",
       "  <thead>\n",
       "    <tr style=\"text-align: right;\">\n",
       "      <th></th>\n",
       "      <th>close</th>\n",
       "      <th>% change</th>\n",
       "    </tr>\n",
       "    <tr>\n",
       "      <th>time</th>\n",
       "      <th></th>\n",
       "      <th></th>\n",
       "    </tr>\n",
       "  </thead>\n",
       "  <tbody>\n",
       "    <tr>\n",
       "      <th>2022-02-01 18:00:00</th>\n",
       "      <td>100.000547</td>\n",
       "      <td>NaN</td>\n",
       "    </tr>\n",
       "    <tr>\n",
       "      <th>2022-02-02 18:00:00</th>\n",
       "      <td>103.979262</td>\n",
       "      <td>0.039787</td>\n",
       "    </tr>\n",
       "    <tr>\n",
       "      <th>2022-02-03 18:00:00</th>\n",
       "      <td>111.475055</td>\n",
       "      <td>0.072089</td>\n",
       "    </tr>\n",
       "    <tr>\n",
       "      <th>2022-02-04 18:00:00</th>\n",
       "      <td>111.282774</td>\n",
       "      <td>-0.001725</td>\n",
       "    </tr>\n",
       "    <tr>\n",
       "      <th>2022-02-05 18:00:00</th>\n",
       "      <td>112.954418</td>\n",
       "      <td>0.015022</td>\n",
       "    </tr>\n",
       "    <tr>\n",
       "      <th>...</th>\n",
       "      <td>...</td>\n",
       "      <td>...</td>\n",
       "    </tr>\n",
       "    <tr>\n",
       "      <th>2023-01-27 18:00:00</th>\n",
       "      <td>54.890927</td>\n",
       "      <td>-0.020078</td>\n",
       "    </tr>\n",
       "    <tr>\n",
       "      <th>2023-01-28 18:00:00</th>\n",
       "      <td>57.340578</td>\n",
       "      <td>0.044628</td>\n",
       "    </tr>\n",
       "    <tr>\n",
       "      <th>2023-01-29 18:00:00</th>\n",
       "      <td>53.631549</td>\n",
       "      <td>-0.064684</td>\n",
       "    </tr>\n",
       "    <tr>\n",
       "      <th>2023-01-30 18:00:00</th>\n",
       "      <td>54.764584</td>\n",
       "      <td>0.021126</td>\n",
       "    </tr>\n",
       "    <tr>\n",
       "      <th>2023-01-31 18:00:00</th>\n",
       "      <td>56.427557</td>\n",
       "      <td>0.030366</td>\n",
       "    </tr>\n",
       "  </tbody>\n",
       "</table>\n",
       "<p>365 rows × 2 columns</p>\n",
       "</div>"
      ],
      "text/plain": [
       "                          close  % change\n",
       "time                                     \n",
       "2022-02-01 18:00:00  100.000547       NaN\n",
       "2022-02-02 18:00:00  103.979262  0.039787\n",
       "2022-02-03 18:00:00  111.475055  0.072089\n",
       "2022-02-04 18:00:00  111.282774 -0.001725\n",
       "2022-02-05 18:00:00  112.954418  0.015022\n",
       "...                         ...       ...\n",
       "2023-01-27 18:00:00   54.890927 -0.020078\n",
       "2023-01-28 18:00:00   57.340578  0.044628\n",
       "2023-01-29 18:00:00   53.631549 -0.064684\n",
       "2023-01-30 18:00:00   54.764584  0.021126\n",
       "2023-01-31 18:00:00   56.427557  0.030366\n",
       "\n",
       "[365 rows x 2 columns]"
      ]
     },
     "metadata": {},
     "output_type": "display_data"
    },
    {
     "data": {
      "text/html": [
       "<div>\n",
       "<style scoped>\n",
       "    .dataframe tbody tr th:only-of-type {\n",
       "        vertical-align: middle;\n",
       "    }\n",
       "\n",
       "    .dataframe tbody tr th {\n",
       "        vertical-align: top;\n",
       "    }\n",
       "\n",
       "    .dataframe thead th {\n",
       "        text-align: right;\n",
       "    }\n",
       "</style>\n",
       "<table border=\"1\" class=\"dataframe\">\n",
       "  <thead>\n",
       "    <tr style=\"text-align: right;\">\n",
       "      <th></th>\n",
       "      <th>Mean</th>\n",
       "      <th>Vol</th>\n",
       "      <th>Sharpe</th>\n",
       "    </tr>\n",
       "  </thead>\n",
       "  <tbody>\n",
       "    <tr>\n",
       "      <th>Strat</th>\n",
       "      <td>-0.141019</td>\n",
       "      <td>1.097228</td>\n",
       "      <td>-0.128523</td>\n",
       "    </tr>\n",
       "  </tbody>\n",
       "</table>\n",
       "</div>"
      ],
      "text/plain": [
       "           Mean       Vol    Sharpe\n",
       "Strat -0.141019  1.097228 -0.128523"
      ]
     },
     "metadata": {},
     "output_type": "display_data"
    }
   ],
   "source": [
    "total_control = link_hold['close'] * (33.33/15.855) \\\n",
    "                + etc_hold['close'] * (33.33/26.313) \\\n",
    "                + ada_hold['close'] * (33.34/1.027207)\n",
    "\n",
    "total_control = pd.DataFrame(total_control)\n",
    "\n",
    "\n",
    "total_control['% change'] = total_control['close'].pct_change()\n",
    "\n",
    "display(total_control)\n",
    "display(getSharpe(total_control, '1M'))"
   ]
  },
  {
   "cell_type": "code",
   "execution_count": 293,
   "id": "3eb0daa1",
   "metadata": {},
   "outputs": [
    {
     "data": {
      "image/png": "[encoded data removed]",
      "text/plain": [
       "<Figure size 1000x500 with 1 Axes>"
      ]
     },
     "metadata": {},
     "output_type": "display_data"
    }
   ],
   "source": [
    "plt.figure(figsize=(10,5))\n",
    "plt.plot((total_control['close']-100)/100)\n",
    "plt.title('PnL Graph: Control Portfolio')\n",
    "plt.xlabel('Time')\n",
    "plt.ylabel('PnL as % of starting')\n",
    "plt.show()"
   ]
  },
  {
   "cell_type": "markdown",
   "id": "4c33e3e5",
   "metadata": {},
   "source": [
    "# Visualize Signal vs. Close for ETC"
   ]
  },
  {
   "cell_type": "code",
   "execution_count": 296,
   "id": "51c0b31d",
   "metadata": {},
   "outputs": [
    {
     "name": "stderr",
     "output_type": "stream",
     "text": [
      "C:\\Users\\jonat\\AppData\\Local\\Temp\\ipykernel_24084\\3665123260.py:16: UserWarning: Matplotlib is currently using module://matplotlib_inline.backend_inline, which is a non-GUI backend, so cannot show the figure.\n",
      "  fig.show()\n"
     ]
    },
    {
     "data": {
      "image/png": "[encoded data removed]",
      "text/plain": [
       "<Figure size 640x480 with 2 Axes>"
      ]
     },
     "metadata": {},
     "output_type": "display_data"
    }
   ],
   "source": [
    "from matplotlib.ticker import AutoMinorLocator\n",
    "plotMACD(etc_test_macd)"
   ]
  }
 ],
 "metadata": {
  "kernelspec": {
   "display_name": "Python 3 (ipykernel)",
   "language": "python",
   "name": "python3"
  },
  "language_info": {
   "codemirror_mode": {
    "name": "ipython",
    "version": 3
   },
   "file_extension": ".py",
   "mimetype": "text/x-python",
   "name": "python",
   "nbconvert_exporter": "python",
   "pygments_lexer": "ipython3",
   "version": "3.9.7"
  }
 },
 "nbformat": 4,
 "nbformat_minor": 5
}
